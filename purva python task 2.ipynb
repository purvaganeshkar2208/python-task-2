{
 "cells": [
  {
   "cell_type": "markdown",
   "id": "710cde97-ae9b-4088-96d5-c5de650cad96",
   "metadata": {},
   "source": [
    "# 1. List Operations"
   ]
  },
  {
   "cell_type": "markdown",
   "id": "83187e23-fb96-4744-ba07-a7a3f1f63894",
   "metadata": {},
   "source": [
    "# Append ,add items to the end of lists"
   ]
  },
  {
   "cell_type": "code",
   "execution_count": 4,
   "id": "ef421d8a-e721-469a-985c-50673bf3dea8",
   "metadata": {},
   "outputs": [],
   "source": [
    "a1 = [6,7,8]"
   ]
  },
  {
   "cell_type": "code",
   "execution_count": 6,
   "id": "c8724b68-834d-4f85-8891-646bdc122323",
   "metadata": {},
   "outputs": [],
   "source": [
    "a1.append(9)"
   ]
  },
  {
   "cell_type": "code",
   "execution_count": 8,
   "id": "5d7cdf43-50ba-4474-8f1c-3cca6bdff815",
   "metadata": {},
   "outputs": [
    {
     "name": "stdout",
     "output_type": "stream",
     "text": [
      "[6, 7, 8, 9]\n"
     ]
    }
   ],
   "source": [
    "print(a1)"
   ]
  },
  {
   "cell_type": "markdown",
   "id": "87c2e4c9-bcf0-4251-bf45-20d86e392c9c",
   "metadata": {},
   "source": [
    "# Extend , expand the list by appending elements from an iterable"
   ]
  },
  {
   "cell_type": "code",
   "execution_count": 35,
   "id": "9f31f035-700c-491a-8e92-f7dbf21275f5",
   "metadata": {},
   "outputs": [],
   "source": [
    "my_list=['flower','trees','sun']"
   ]
  },
  {
   "cell_type": "code",
   "execution_count": 37,
   "id": "25c08d30-8eb5-4c60-bd9d-17eaa033fc81",
   "metadata": {},
   "outputs": [],
   "source": [
    "my_list.extend(['water','soil'])"
   ]
  },
  {
   "cell_type": "code",
   "execution_count": 39,
   "id": "2bfa1fd3-349e-42e3-bd3c-9bedde538e61",
   "metadata": {},
   "outputs": [
    {
     "name": "stdout",
     "output_type": "stream",
     "text": [
      "['flower', 'trees', 'sun', 'water', 'soil']\n"
     ]
    }
   ],
   "source": [
    "print(my_list)"
   ]
  },
  {
   "cell_type": "code",
   "execution_count": 50,
   "id": "c99cd776-2ff6-4f7e-97bd-4eb3e8f6e4dc",
   "metadata": {},
   "outputs": [],
   "source": [
    " dogs_name=['giggi','gabbar']"
   ]
  },
  {
   "cell_type": "code",
   "execution_count": 52,
   "id": "b3771f0e-498f-4262-aa39-c1eafbb590c6",
   "metadata": {},
   "outputs": [],
   "source": [
    "cats_name =['mau','chau']"
   ]
  },
  {
   "cell_type": "code",
   "execution_count": 54,
   "id": "80a2e27a-f66b-4b8f-a8aa-c7f4b36e057f",
   "metadata": {},
   "outputs": [],
   "source": [
    "dogs_name.extend([cats_name])"
   ]
  },
  {
   "cell_type": "code",
   "execution_count": 56,
   "id": "71aed13d-c20b-4bc4-9f31-271ac2fb4b8a",
   "metadata": {},
   "outputs": [
    {
     "name": "stdout",
     "output_type": "stream",
     "text": [
      "['giggi', 'gabbar', ['mau', 'chau']]\n"
     ]
    }
   ],
   "source": [
    "print(dogs_name)"
   ]
  },
  {
   "cell_type": "markdown",
   "id": "0cae9555-adad-4c78-af43-2c9e3b9d925d",
   "metadata": {},
   "source": [
    "# remove ,remove the first occurance of value"
   ]
  },
  {
   "cell_type": "code",
   "execution_count": 41,
   "id": "4e3203bb-76e0-4a06-83db-0768c27e9597",
   "metadata": {},
   "outputs": [],
   "source": [
    "b1= [4,5,6,7]"
   ]
  },
  {
   "cell_type": "code",
   "execution_count": 43,
   "id": "0013e4b9-db53-4394-9938-7da3b2a08a10",
   "metadata": {},
   "outputs": [],
   "source": [
    "b1.remove(6)"
   ]
  },
  {
   "cell_type": "code",
   "execution_count": 45,
   "id": "0e7e36df-b5bf-4b09-a143-a4661b358619",
   "metadata": {},
   "outputs": [
    {
     "name": "stdout",
     "output_type": "stream",
     "text": [
      "[4, 5, 7]\n"
     ]
    }
   ],
   "source": [
    "print(b1)"
   ]
  },
  {
   "cell_type": "markdown",
   "id": "6f3bcf9e-7ab2-4ef1-9d2a-78e3e041550f",
   "metadata": {},
   "source": [
    "# pop Removes and returns the item at the given position."
   ]
  },
  {
   "cell_type": "code",
   "execution_count": 60,
   "id": "68e87114-77cd-40c4-9cb1-6bcc27e7b545",
   "metadata": {},
   "outputs": [],
   "source": [
    "list =[8,7,6,5]"
   ]
  },
  {
   "cell_type": "code",
   "execution_count": 62,
   "id": "5c9ff661-6c3e-4b6b-85ca-63e9f430047e",
   "metadata": {},
   "outputs": [
    {
     "data": {
      "text/plain": [
       "5"
      ]
     },
     "execution_count": 62,
     "metadata": {},
     "output_type": "execute_result"
    }
   ],
   "source": [
    "list.pop()"
   ]
  },
  {
   "cell_type": "code",
   "execution_count": 64,
   "id": "8aa73e48-e7e5-40b7-bd35-661b5a29e179",
   "metadata": {},
   "outputs": [
    {
     "name": "stdout",
     "output_type": "stream",
     "text": [
      "[8, 7, 6]\n"
     ]
    }
   ],
   "source": [
    "print(list)"
   ]
  },
  {
   "cell_type": "markdown",
   "id": "963b57f3-eb33-489a-952c-dc529ead23a8",
   "metadata": {},
   "source": [
    "# count"
   ]
  },
  {
   "cell_type": "code",
   "execution_count": 81,
   "id": "de574138-9775-4754-b35a-1df2f5914b63",
   "metadata": {},
   "outputs": [],
   "source": [
    "my_list = [1, 2, 2, 3]"
   ]
  },
  {
   "cell_type": "code",
   "execution_count": 83,
   "id": "a1df30e9-016a-49cb-884f-9c1a9d08e991",
   "metadata": {},
   "outputs": [
    {
     "data": {
      "text/plain": [
       "2"
      ]
     },
     "execution_count": 83,
     "metadata": {},
     "output_type": "execute_result"
    }
   ],
   "source": [
    "my_list.count(2)"
   ]
  },
  {
   "cell_type": "markdown",
   "id": "0e94c325-7a06-4990-b1f0-f94d515b7098",
   "metadata": {},
   "source": [
    "# reverse"
   ]
  },
  {
   "cell_type": "code",
   "execution_count": 86,
   "id": "17bb40ab-eaa0-401f-83e0-c9f972d7bf54",
   "metadata": {},
   "outputs": [],
   "source": [
    "l2= [0,9,8,7]"
   ]
  },
  {
   "cell_type": "code",
   "execution_count": 88,
   "id": "454e6188-679e-455d-858c-54f90a42646b",
   "metadata": {},
   "outputs": [],
   "source": [
    "l2.reverse()"
   ]
  },
  {
   "cell_type": "code",
   "execution_count": 90,
   "id": "cc565105-98d0-4b38-a1cb-b6dbc6da7349",
   "metadata": {},
   "outputs": [
    {
     "name": "stdout",
     "output_type": "stream",
     "text": [
      "[7, 8, 9, 0]\n"
     ]
    }
   ],
   "source": [
    "print(l2)"
   ]
  },
  {
   "cell_type": "markdown",
   "id": "75cda5cd-53de-4568-9846-b5b4c77bbad7",
   "metadata": {},
   "source": [
    "# copy"
   ]
  },
  {
   "cell_type": "code",
   "execution_count": 95,
   "id": "f6dbc0dd-619d-4ee5-8b71-ecf00ae31cc0",
   "metadata": {},
   "outputs": [],
   "source": [
    "d1=[0,0,0]\n"
   ]
  },
  {
   "cell_type": "code",
   "execution_count": 97,
   "id": "dfbba9b6-bff0-477c-b296-f3aa974ca3ce",
   "metadata": {},
   "outputs": [
    {
     "data": {
      "text/plain": [
       "[0, 0, 0]"
      ]
     },
     "execution_count": 97,
     "metadata": {},
     "output_type": "execute_result"
    }
   ],
   "source": [
    "d1.copy()"
   ]
  },
  {
   "cell_type": "markdown",
   "id": "b4254e4b-6b41-40fc-8e05-cc0d60533b04",
   "metadata": {},
   "source": [
    "# 2.  boolean"
   ]
  },
  {
   "cell_type": "code",
   "execution_count": 103,
   "id": "f2ab4d1c-6159-4670-a4f3-864721a1f748",
   "metadata": {},
   "outputs": [
    {
     "data": {
      "text/plain": [
       "True"
      ]
     },
     "execution_count": 103,
     "metadata": {},
     "output_type": "execute_result"
    }
   ],
   "source": [
    "bool(0)\n",
    "bool(1)"
   ]
  },
  {
   "cell_type": "code",
   "execution_count": 105,
   "id": "2873b32b-e446-4888-bee7-ea7362336cad",
   "metadata": {},
   "outputs": [
    {
     "data": {
      "text/plain": [
       "True"
      ]
     },
     "execution_count": 105,
     "metadata": {},
     "output_type": "execute_result"
    }
   ],
   "source": [
    "bool(1) or bool(0)"
   ]
  },
  {
   "cell_type": "code",
   "execution_count": 107,
   "id": "259f5d09-f76a-4420-90ce-0b325f43e6a5",
   "metadata": {},
   "outputs": [
    {
     "data": {
      "text/plain": [
       "False"
      ]
     },
     "execution_count": 107,
     "metadata": {},
     "output_type": "execute_result"
    }
   ],
   "source": [
    "bool(0) and bool(0)"
   ]
  },
  {
   "cell_type": "markdown",
   "id": "8d93aab5-a04c-4385-a575-e378b40660ed",
   "metadata": {},
   "source": [
    "# Python List clear() method removes all items from the List making it an empty/null list."
   ]
  },
  {
   "cell_type": "code",
   "execution_count": 110,
   "id": "871486cc-b734-4954-adc5-eae06fe16ef6",
   "metadata": {},
   "outputs": [],
   "source": [
    "h1 = [1,2,3]"
   ]
  },
  {
   "cell_type": "code",
   "execution_count": 112,
   "id": "78873799-588e-4489-b076-3cc4d18db6ca",
   "metadata": {},
   "outputs": [],
   "source": [
    "h1.clear()"
   ]
  },
  {
   "cell_type": "code",
   "execution_count": 114,
   "id": "9f4ca044-1c7a-4452-a42b-1954aa040ea1",
   "metadata": {},
   "outputs": [
    {
     "name": "stdout",
     "output_type": "stream",
     "text": [
      "[]\n"
     ]
    }
   ],
   "source": [
    "print(h1)"
   ]
  },
  {
   "cell_type": "markdown",
   "id": "37d2cecb-2756-460d-bbd1-aece285ed570",
   "metadata": {},
   "source": [
    "# sort"
   ]
  },
  {
   "cell_type": "code",
   "execution_count": 121,
   "id": "efc0dd7c-2408-4eec-b60c-b0ae289ebbc2",
   "metadata": {},
   "outputs": [],
   "source": [
    "movies =['jawan' , 'yjhd','sultan']"
   ]
  },
  {
   "cell_type": "code",
   "execution_count": 123,
   "id": "a00ee559-8a06-4de0-985c-83c379ffd0f1",
   "metadata": {},
   "outputs": [],
   "source": [
    "movies.sort()"
   ]
  },
  {
   "cell_type": "code",
   "execution_count": 125,
   "id": "140db6f0-9e18-4687-a440-7a3d152a8b16",
   "metadata": {},
   "outputs": [
    {
     "name": "stdout",
     "output_type": "stream",
     "text": [
      "['jawan', 'sultan', 'yjhd']\n"
     ]
    }
   ],
   "source": [
    "print(movies)"
   ]
  },
  {
   "cell_type": "code",
   "execution_count": 127,
   "id": "683ca056-7d4e-4b76-a4cb-f44afc89675b",
   "metadata": {},
   "outputs": [],
   "source": [
    "numbers =[ 6,3,9,4,1]"
   ]
  },
  {
   "cell_type": "code",
   "execution_count": 129,
   "id": "ff3000e9-a22b-4f77-a083-99605db1cd3d",
   "metadata": {},
   "outputs": [],
   "source": [
    "numbers.sort()"
   ]
  },
  {
   "cell_type": "code",
   "execution_count": 131,
   "id": "898ac6a0-219a-4c96-8282-e5134befbcd4",
   "metadata": {},
   "outputs": [
    {
     "name": "stdout",
     "output_type": "stream",
     "text": [
      "[1, 3, 4, 6, 9]\n"
     ]
    }
   ],
   "source": [
    "print(numbers)"
   ]
  },
  {
   "cell_type": "markdown",
   "id": "7db768a2-0bb9-497c-9b1c-5773cbf52c85",
   "metadata": {},
   "source": [
    "# length"
   ]
  },
  {
   "cell_type": "code",
   "execution_count": 163,
   "id": "10028d2c-d2e1-4f37-b27d-f2ef41302588",
   "metadata": {},
   "outputs": [
    {
     "data": {
      "text/plain": [
       "3"
      ]
     },
     "execution_count": 163,
     "metadata": {},
     "output_type": "execute_result"
    }
   ],
   "source": [
    "(5).bit_length()"
   ]
  },
  {
   "cell_type": "code",
   "execution_count": 167,
   "id": "197e5736-bdc8-411f-8eb3-bc2220059758",
   "metadata": {},
   "outputs": [
    {
     "data": {
      "text/plain": [
       "3"
      ]
     },
     "execution_count": 167,
     "metadata": {},
     "output_type": "execute_result"
    }
   ],
   "source": [
    "(7).bit_length()"
   ]
  },
  {
   "cell_type": "markdown",
   "id": "5cec4be9-630a-4cc1-8f42-8e6c2c4a8dfe",
   "metadata": {},
   "source": [
    "# max "
   ]
  },
  {
   "cell_type": "code",
   "execution_count": 171,
   "id": "c308182b-0fe5-4997-9487-e5bd6418f263",
   "metadata": {},
   "outputs": [],
   "source": [
    "var1 =3\n",
    "var2=5\n",
    "var3=1"
   ]
  },
  {
   "cell_type": "code",
   "execution_count": 173,
   "id": "a74395a8-1a89-49fa-9ac9-007f267b3a12",
   "metadata": {},
   "outputs": [],
   "source": [
    "max_val = max(var1,var2,var3)"
   ]
  },
  {
   "cell_type": "code",
   "execution_count": 175,
   "id": "f8c581f2-098c-407a-b796-9e18f344fb1d",
   "metadata": {},
   "outputs": [
    {
     "ename": "TypeError",
     "evalue": "'int' object is not callable",
     "output_type": "error",
     "traceback": [
      "\u001b[1;31m---------------------------------------------------------------------------\u001b[0m",
      "\u001b[1;31mTypeError\u001b[0m                                 Traceback (most recent call last)",
      "Cell \u001b[1;32mIn[175], line 1\u001b[0m\n\u001b[1;32m----> 1\u001b[0m \u001b[38;5;28mprint\u001b[39m(max_val)\n",
      "\u001b[1;31mTypeError\u001b[0m: 'int' object is not callable"
     ]
    }
   ],
   "source": [
    "print(max_val)"
   ]
  },
  {
   "cell_type": "code",
   "execution_count": null,
   "id": "f89a7be8-54e9-48c1-a726-c85eebb5b320",
   "metadata": {},
   "outputs": [],
   "source": []
  }
 ],
 "metadata": {
  "kernelspec": {
   "display_name": "Python 3 (ipykernel)",
   "language": "python",
   "name": "python3"
  },
  "language_info": {
   "codemirror_mode": {
    "name": "ipython",
    "version": 3
   },
   "file_extension": ".py",
   "mimetype": "text/x-python",
   "name": "python",
   "nbconvert_exporter": "python",
   "pygments_lexer": "ipython3",
   "version": "3.12.4"
  }
 },
 "nbformat": 4,
 "nbformat_minor": 5
}
